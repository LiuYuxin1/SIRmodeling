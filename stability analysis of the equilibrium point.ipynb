{
  "metadata": {
    "language_info": {
      "codemirror_mode": {
        "name": "python",
        "version": 3
      },
      "file_extension": ".py",
      "mimetype": "text/x-python",
      "name": "python",
      "nbconvert_exporter": "python",
      "pygments_lexer": "ipython3",
      "version": "3.8"
    },
    "kernelspec": {
      "name": "python",
      "display_name": "Python (Pyodide)",
      "language": "python"
    }
  },
  "nbformat_minor": 4,
  "nbformat": 4,
  "cells": [
    {
      "cell_type": "code",
      "source": "import numpy as np\nimport scipy.integrate as integrate\nimport matplotlib.pyplot as plt",
      "metadata": {
        "trusted": true
      },
      "execution_count": 2,
      "outputs": []
    },
    {
      "cell_type": "code",
      "source": "# Initial population\nS1_ini = 0.999\nS2_ini = 0\nS3_ini = 0\nS4_ini = 0\nI_ini = 1 - S1_ini\nR1_ini, R2_ini, R3_ini, R4_ini = 0, 0, 0, 0 \ny0 = np.array([S1_ini, S2_ini, S3_ini, S4_ini, I_ini, R1_ini, R2_ini, R3_ini, R4_ini])\n# A grid of time points (in days)\nT = 1000\nt_range = np.linspace(0, T, T+1)\n\nbeta1 = 0.3\nbeta2 = 0.2\nbeta3 = 0.25\nbeta4 = 0.1\ngamma1, gamma2, gamma3, gamma4 = 0.1,0.25,0.2,0.3\nalpha = 0.1\nmu = 0.1\nomega = 0.7\nphi = 0.1\nnu = 0.1",
      "metadata": {
        "trusted": true
      },
      "execution_count": 3,
      "outputs": []
    },
    {
      "cell_type": "code",
      "source": "# The proposed model\ndef model(t, y):\n    S1, S2, S3, S4, I, R1, R2, R3, R4 = y\n    dS1dt = mu - nu*S1 - beta1*S1*I + phi*S2 \n    dS2dt = + nu*S1 - beta2*S2*I - phi*S2 \n    dS3dt = - nu*S3 - beta3*S3*I + phi*S4 + omega*R1 + omega*R3 \n    dS4dt = + nu*S3 - beta4*S4*I - phi*S4 + omega*R2 + omega*R4 \n    dIdt = (- alpha + beta1*S1 + beta2*S2 + beta3*S3 + beta4*S4 - gamma1 - gamma2 - gamma3 - gamma4)*I\n    dR1dt = + gamma1*I - omega*R1 + phi*R2\n    dR2dt = + gamma2*I - omega*R2 - phi*R2\n    dR3dt = + gamma3*I - omega*R3 + phi*R4\n    dR4dt = + gamma4*I - omega*R4 - phi*R4\n    dydt = np.array([dS1dt, dS2dt, dS3dt, dS4dt, dIdt, dR1dt, dR2dt, dR3dt, dR4dt])\n    return dydt\n\n# Integrate the proposed ODE model over the time grid, t.\nmodel_sol = integrate.solve_ivp(model, [0,T], y0, method='RK45', t_eval=t_range)\nS1, S2, S3, S4 = model_sol.y[0,:], model_sol.y[1,:], model_sol.y[2,:], model_sol.y[3,:]\nI = model_sol.y[4,:]\nR1, R2, R3, R4 = model_sol.y[5,:], model_sol.y[6,:], model_sol.y[7,:], model_sol.y[8,:]\n\n# Total population\nN = model_sol.y.sum(axis=0)",
      "metadata": {
        "trusted": true
      },
      "execution_count": 4,
      "outputs": []
    },
    {
      "cell_type": "code",
      "source": "#comparing simulation results with the nullclines\nValue_I = np.interp(3000, t_range, I)\nValue_S1 = np.interp(3000, t_range, S1)\nValue_S2 = np.interp(3000, t_range, S2)\nValue_S3 = np.interp(3000, t_range, S3)\nValue_S4 = np.interp(3000, t_range, S4)\nValue_R1 = np.interp(3000, t_range, R1)\nValue_R2 = np.interp(3000, t_range, R2)\nValue_R3 = np.interp(3000, t_range, R3)\nValue_R4 = np.interp(3000, t_range, R4)\n\nbeta1 = 0.3\nbeta2 = 0.2\nbeta3 = 0.25\nbeta4 = 0.1\ngamma1, gamma2, gamma3, gamma4 = 0.1,0.25,0.2,0.3\nalpha = 0.1\nmu = 0.1\nomega = 0.7\nphi = 0.1\nnu = 0.1\nI = mu/alpha\nS1 = (alpha**2*phi+alpha*beta2*mu)/(alpha*beta1*phi+alpha*beta2*nu+beta1*beta2*mu)\nS2 = (alpha**2*nu)/(alpha*beta1*phi+alpha*beta2*nu+beta1*beta2*mu)\nS3 = ((gamma1+gamma2+gamma3+gamma4)*(alpha*phi+beta4*mu))/(alpha*beta3*phi+alpha*beta4*nu+beta3*beta4*mu)-(beta4*omega*mu*(gamma2+gamma4))/((omega+phi)*(alpha*beta3*phi+alpha*beta4*nu+beta3*beta4*mu))\nS4 = (beta3*omega*mu*(gamma2+gamma4)+alpha*nu*(gamma1+gamma2+gamma3+gamma4)*(omega+phi))/((omega+phi)*(alpha*beta3*phi+alpha*beta4*nu+beta3*beta4*mu))\nR1 = (mu*(gamma1*(omega+phi)+gamma2*phi))/(alpha*omega*(omega+phi))\nR2 = (gamma2*mu)/(alpha*(omega+phi))\nR3 = (mu*(gamma3*(omega+phi)+gamma4*phi))/(alpha*omega*(omega+phi))\nR4 = (gamma4*mu)/(alpha*(omega+phi))",
      "metadata": {
        "trusted": true
      },
      "execution_count": 5,
      "outputs": []
    },
    {
      "cell_type": "code",
      "source": "delta_I = Value_I - I\ndelta_S1 = Value_S1 - S1\ndelta_S2 = Value_S2 - S2\ndelta_S3 = Value_S3 - S3\ndelta_S4 = Value_S4 - S4\ndelta_R1 = Value_R1 - R1\ndelta_R2 = Value_R2 - R2\ndelta_R3 = Value_R3 - R3\ndelta_R4 = Value_R4 - R4\nprint(delta_S1, delta_S2, delta_S3, delta_S4,delta_I, delta_R1, delta_R2, delta_R3, delta_R4)",
      "metadata": {
        "trusted": true
      },
      "execution_count": 6,
      "outputs": [
        {
          "name": "stdout",
          "text": "-2.028621663430208e-06 3.580517840551245e-09 0.00010216232757231936 -0.00015353218977720573 -1.1351295257533423e-05 -2.9624856299426128e-05 5.572532204051184e-05 -2.9584006818461628e-05 6.687038644853649e-05\n",
          "output_type": "stream"
        }
      ]
    },
    {
      "cell_type": "code",
      "source": "",
      "metadata": {},
      "execution_count": null,
      "outputs": []
    }
  ]
}