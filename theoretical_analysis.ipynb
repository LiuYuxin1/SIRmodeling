{
  "metadata": {
    "kernelspec": {
      "name": "python",
      "display_name": "Python (Pyodide)",
      "language": "python"
    },
    "language_info": {
      "codemirror_mode": {
        "name": "python",
        "version": 3
      },
      "file_extension": ".py",
      "mimetype": "text/x-python",
      "name": "python",
      "nbconvert_exporter": "python",
      "pygments_lexer": "ipython3",
      "version": "3.8"
    }
  },
  "nbformat_minor": 4,
  "nbformat": 4,
  "cells": [
    {
      "cell_type": "code",
      "source": "import sympy",
      "metadata": {},
      "execution_count": 1,
      "outputs": []
    },
    {
      "cell_type": "markdown",
      "source": "## Set up the problem",
      "metadata": {}
    },
    {
      "cell_type": "code",
      "source": "# parameters\nbeta1, beta2, beta3, beta4 = sympy.symbols('beta1 beta2 beta3 beta4') # transmission rate\ngamma1, gamma2, gamma3, gamma4 = sympy.symbols('gamma1 gamma2 gamma3 gamma4') # recovery rate\nalpha = sympy.symbols('alpha') # mortality rate \nmu = sympy.symbols('mu') # natural birth rate\nnu = sympy.symbols('nu') # vaccination rate\nphi = sympy.symbols('phi') # waning rate of vaccine\nomega = sympy.symbols('omega') # the rate which the recovered return to the susceptible\n\n# variables\nS1, S2, S3, S4 = sympy.symbols('S1 S2 S3 S4') # the susceptible\nR1, R2, R3, R4 = sympy.symbols('R1 R2 R3 R4') # the recovered\nI = sympy.symbols('I') # the infected\n\n# ODE system\nSdot1 = mu - nu*S1 - beta1*S1*I + phi*S2 # S without immunization/vaccination\nSdot2 = + nu*S1 - beta2*S2*I - phi*S2 # S with vaccine-induced immunity\nSdot3 = - nu*S3 - beta3*S3*I + phi*S4 + omega*R1 + omega*R3 # S with infection-induced immunity\nSdot4 = + nu*S3 - beta4*S4*I - phi*S4 + omega*R2 + omega*R4 # S with vaccine- and infection-induced immunity\nRdot1 = + gamma1*I - omega*R1 + phi*R2\nRdot2 = + gamma2*I - omega*R2 - phi*R2\nRdot3 = + gamma3*I - omega*R3 + phi*R4\nRdot4 = + gamma4*I - omega*R4 - phi*R4\nIdot = (- alpha + beta1*S1 + beta2*S2 + beta3*S3 + beta4*S4 - gamma1 - gamma2 - gamma3 - gamma4)*I",
      "metadata": {},
      "execution_count": null,
      "outputs": []
    },
    {
      "cell_type": "markdown",
      "source": "## Find equilibrium points",
      "metadata": {}
    },
    {
      "cell_type": "code",
      "source": "# Solve LHS = 0\nS1_stars = sympy.solve(Sdot1, S2)\nS2_stars = sympy.solve(Sdot2, S2)\nS3_stars = sympy.solve(Sdot3, S4)\nS4_stars = sympy.solve(Sdot4, S4)\nR1_stars = sympy.solve(Rdot1, R1)\nR2_stars = sympy.solve(Rdot2, R2)\nR3_stars = sympy.solve(Rdot3, R3)\nR4_stars = sympy.solve(Rdot4, R4)\nprint('S_1^* = ', S1_stars)\nprint('S_2^* = ', S2_stars)\nprint('S_3^* = ', S3_stars)\nprint('S_4^* = ', S4_stars)\nprint('R_1^* = ', R1_stars)\nprint('R_2^* = ', R2_stars)\nprint('R_3^* = ', R3_stars)\nprint('R_4^* = ', R4_stars)",
      "metadata": {},
      "execution_count": 3,
      "outputs": [
        {
          "name": "stdout",
          "output_type": "stream",
          "text": "S_1^* =  [(I*S1*beta1 + S1*nu - mu)/phi]\n\nS_2^* =  [S1*nu/(I*beta2 + phi)]\n\nS_3^* =  [(I*S3*beta3 - R1*omega - R3*omega + S3*nu)/phi]\n\nS_4^* =  [(R2*omega + R4*omega + S3*nu)/(I*beta4 + phi)]\n\nR_1^* =  [(I*gamma1 + R2*phi)/omega]\n\nR_2^* =  [I*gamma2/(omega + phi)]\n\nR_3^* =  [(I*gamma3 + R4*phi)/omega]\n\nR_4^* =  [I*gamma4/(omega + phi)]\n"
        }
      ]
    },
    {
      "cell_type": "code",
      "source": "# Simplify the above expressions\nR2_star = R2_stars[0]\nR1_star = R1_stars[0].subs({R2: R2_star})\nR4_star = R4_stars[0]\nR3_star = R3_stars[0].subs({R4: R4_star})\nS1_star = sympy.solve(S1_stars[0] - S2_stars[0], S1)[0]\nS2_star = S2_stars[0].subs({S1: S1_star})\nS3_star = sympy.solve(S3_stars[0] - S4_stars[0], S3)[0].subs({R1: R1_star, R2: R2_star, R3: R3_star, R4: R4_star})\nS4_star = S4_stars[0].subs({S3: S3_star, R1: R1_star, R2: R2_star, R3: R3_star, R4: R4_star})\nprint('S_1^* = ', S1_star)\nprint('S_2^* = ', S2_star)\nprint('S_3^* = ', S3_star)\nprint('S_4^* = ', S4_star)\nprint('R_1^* = ', R1_star)\nprint('R_2^* = ', R2_star)\nprint('R_3^* = ', R3_star)\nprint('R_4^* = ', R4_star)",
      "metadata": {},
      "execution_count": 4,
      "outputs": [
        {
          "name": "stdout",
          "output_type": "stream",
          "text": "S_1^* =  mu*(I*beta2 + phi)/(I*(I*beta1*beta2 + beta1*phi + beta2*nu))\n\nS_2^* =  mu*nu/(I*(I*beta1*beta2 + beta1*phi + beta2*nu))\n\nS_3^* =  omega*(I*beta4*(I*gamma1 + I*gamma2*phi/(omega + phi))/omega + I*beta4*(I*gamma3 + I*gamma4*phi/(omega + phi))/omega + I*gamma2*phi/(omega + phi) + I*gamma4*phi/(omega + phi) + phi*(I*gamma1 + I*gamma2*phi/(omega + phi))/omega + phi*(I*gamma3 + I*gamma4*phi/(omega + phi))/omega)/(I*(I*beta3*beta4 + beta3*phi + beta4*nu))\n\nS_4^* =  (I*gamma2*omega/(omega + phi) + I*gamma4*omega/(omega + phi) + nu*omega*(I*beta4*(I*gamma1 + I*gamma2*phi/(omega + phi))/omega + I*beta4*(I*gamma3 + I*gamma4*phi/(omega + phi))/omega + I*gamma2*phi/(omega + phi) + I*gamma4*phi/(omega + phi) + phi*(I*gamma1 + I*gamma2*phi/(omega + phi))/omega + phi*(I*gamma3 + I*gamma4*phi/(omega + phi))/omega)/(I*(I*beta3*beta4 + beta3*phi + beta4*nu)))/(I*beta4 + phi)\n\nR_1^* =  (I*gamma1 + I*gamma2*phi/(omega + phi))/omega\n\nR_2^* =  I*gamma2/(omega + phi)\n\nR_3^* =  (I*gamma3 + I*gamma4*phi/(omega + phi))/omega\n\nR_4^* =  I*gamma4/(omega + phi)\n"
        }
      ]
    },
    {
      "cell_type": "code",
      "source": "# One solution of Idot = I is I = 0.\n# The other one is:\nexpr = (- alpha + beta1*S1 + beta2*S2 + beta3*S3 + beta4*S4 - gamma1 - gamma2 - gamma3 - gamma4)\nIdot_simplified = expr.subs({S1: S1_star, S2: S2_star, S3: S3_star, S4: S4_star}).simplify()\nI_stars = sympy.solve(Idot_simplified, I)\nprint('I^* = ', I_stars)",
      "metadata": {},
      "execution_count": 5,
      "outputs": [
        {
          "name": "stdout",
          "output_type": "stream",
          "text": "I^* =  [mu/alpha]\n"
        }
      ]
    },
    {
      "cell_type": "code",
      "source": "# There is only one EP:\nI_star = I_stars[0]\nS1_star = S1_star.subs({I: I_star}).simplify()\nS2_star = S2_star.subs({I: I_star}).simplify()\nS3_star = S3_star.subs({I: I_star}).simplify()\nS4_star = S4_star.subs({I: I_star}).simplify()\nR1_star = R1_star.subs({I: I_star}).simplify()\nR2_star = R2_star.subs({I: I_star}).simplify()\nR3_star = R3_star.subs({I: I_star}).simplify()\nR4_star = R4_star.subs({I: I_star}).simplify()\nprint('S_1^* = ', S1_star)\nprint('S_2^* = ', S2_star)\nprint('S_3^* = ', S3_star)\nprint('S_4^* = ', S4_star)\nprint('R_1^* = ', R1_star)\nprint('R_2^* = ', R2_star)\nprint('R_3^* = ', R3_star)\nprint('R_4^* = ', R4_star)\nprint('I^* = ', I_star)",
      "metadata": {},
      "execution_count": 6,
      "outputs": [
        {
          "name": "stdout",
          "output_type": "stream",
          "text": "S_1^* =  alpha*(alpha*phi + beta2*mu)/(alpha*(beta1*phi + beta2*nu) + beta1*beta2*mu)\n\nS_2^* =  alpha**2*nu/(alpha*(beta1*phi + beta2*nu) + beta1*beta2*mu)\n\nS_3^* =  (alpha*omega*phi*(gamma2 + gamma4) + alpha*phi*(gamma1*(omega + phi) + gamma2*phi + gamma3*(omega + phi) + gamma4*phi) + beta4*mu*(gamma1*(omega + phi) + gamma2*phi + gamma3*(omega + phi) + gamma4*phi))/((omega + phi)*(alpha*(beta3*phi + beta4*nu) + beta3*beta4*mu))\n\nS_4^* =  (alpha*nu*(alpha*omega*phi*(gamma2 + gamma4) + alpha*phi*(gamma1*(omega + phi) + gamma2*phi + gamma3*(omega + phi) + gamma4*phi) + beta4*mu*(gamma1*(omega + phi) + gamma2*phi + gamma3*(omega + phi) + gamma4*phi)) + mu*omega*(gamma2 + gamma4)*(alpha*(beta3*phi + beta4*nu) + beta3*beta4*mu))/((omega + phi)*(alpha*phi + beta4*mu)*(alpha*(beta3*phi + beta4*nu) + beta3*beta4*mu))\n\nR_1^* =  mu*(gamma1*(omega + phi) + gamma2*phi)/(alpha*omega*(omega + phi))\n\nR_2^* =  gamma2*mu/(alpha*(omega + phi))\n\nR_3^* =  mu*(gamma3*(omega + phi) + gamma4*phi)/(alpha*omega*(omega + phi))\n\nR_4^* =  gamma4*mu/(alpha*(omega + phi))\n\nI^* =  mu/alpha\n"
        }
      ]
    },
    {
      "cell_type": "code",
      "source": "",
      "metadata": {},
      "execution_count": null,
      "outputs": []
    }
  ]
}