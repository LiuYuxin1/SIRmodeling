{
  "metadata": {
    "language_info": {
      "codemirror_mode": {
        "name": "python",
        "version": 3
      },
      "file_extension": ".py",
      "mimetype": "text/x-python",
      "name": "python",
      "nbconvert_exporter": "python",
      "pygments_lexer": "ipython3",
      "version": "3.8"
    },
    "kernelspec": {
      "name": "python",
      "display_name": "Python (Pyodide)",
      "language": "python"
    }
  },
  "nbformat_minor": 4,
  "nbformat": 4,
  "cells": [
    {
      "cell_type": "code",
      "source": "import numpy as np\nimport scipy.integrate as integrate\nimport scipy.signal as sig\nimport matplotlib.pyplot as plt",
      "metadata": {
        "trusted": true
      },
      "execution_count": null,
      "outputs": []
    },
    {
      "cell_type": "code",
      "source": "# Initial population\nS1_ini = 0.999\nS2_ini = 0\nS3_ini = 0\nS4_ini = 0\nI_ini = 1 - S1_ini\nR1_ini, R2_ini, R3_ini, R4_ini = 0, 0, 0, 0 \ny0 = np.array([S1_ini, S2_ini, S3_ini, S4_ini, I_ini, R1_ini, R2_ini, R3_ini, R4_ini])\n# A grid of time points (in days)\nT = 1000\nt_range = np.linspace(0, T, T+1)",
      "metadata": {
        "trusted": true
      },
      "execution_count": null,
      "outputs": []
    },
    {
      "cell_type": "code",
      "source": "beta1 = 0.3\nbeta2 = 0.2\nbeta3 = 0.25\nbeta4 = 0.1\ngamma1, gamma2, gamma3, gamma4 = 0.1,0.25,0.2,0.3\nalpha = 0.1\nmu = 0.1\nomega = 0.1\nphi = 0.1\nnu = 0.1",
      "metadata": {
        "trusted": true
      },
      "execution_count": null,
      "outputs": []
    },
    {
      "cell_type": "code",
      "source": "# The proposed model\ndef model(t, y):\n    S1, S2, S3, S4, I, R1, R2, R3, R4 = y\n    dS1dt = mu - nu*S1 - beta1*S1*I + phi*S2 \n    dS2dt = + nu*S1 - beta2*S2*I - phi*S2 \n    dS3dt = - nu*S3 - beta3*S3*I + phi*S4 + omega*R1 + omega*R3 \n    dS4dt = + nu*S3 - beta4*S4*I - phi*S4 + omega*R2 + omega*R4 \n    dIdt = (- alpha + beta1*S1 + beta2*S2 + beta3*S3 + beta4*S4 - gamma1 - gamma2 - gamma3 - gamma4)*I\n    dR1dt = + gamma1*I - omega*R1 + phi*R2\n    dR2dt = + gamma2*I - omega*R2 - phi*R2\n    dR3dt = + gamma3*I - omega*R3 + phi*R4\n    dR4dt = + gamma4*I - omega*R4 - phi*R4\n    dydt = np.array([dS1dt, dS2dt, dS3dt, dS4dt, dIdt, dR1dt, dR2dt, dR3dt, dR4dt])\n    return dydt\n\n# Integrate the proposed ODE model over the time grid, t.\nmodel_sol = integrate.solve_ivp(model, [0,T], y0, method='RK45', t_eval=t_range)\nS1, S2, S3, S4 = model_sol.y[0,:], model_sol.y[1,:], model_sol.y[2,:], model_sol.y[3,:]\nI = model_sol.y[4,:]\nR1, R2, R3, R4 = model_sol.y[5,:], model_sol.y[6,:], model_sol.y[7,:], model_sol.y[8,:]\n\n# Total population\nN = model_sol.y.sum(axis=0)",
      "metadata": {
        "trusted": true
      },
      "execution_count": null,
      "outputs": []
    },
    {
      "cell_type": "code",
      "source": "#calculate T_S and T_I\nT_S1 = sig.find_peaks(S1, distance=300)\nT_S2 = sig.find_peaks(S2, distance=300)\nT_S = (T_S1[0][0] + T_S2[0][0])/2\nT_I = sig.find_peaks(I, distance=300)\nprint(T_S)\nprint(T_I[0][0])",
      "metadata": {
        "trusted": true
      },
      "execution_count": null,
      "outputs": []
    },
    {
      "cell_type": "code",
      "source": "#calculate the value of K\nvalue_I = np.interp(T_I[0][0],t_range,I)\nvalue_N = np.interp(T_I[0][0],t_range,N)\nK = value_I/value_N\nprint(K)",
      "metadata": {
        "trusted": true
      },
      "execution_count": null,
      "outputs": []
    },
    {
      "cell_type": "code",
      "source": "#calculate the value of Q\nplateau_R1 = np.interp(3000, t_range, R1)\nplateau_R2 = np.interp(3000, t_range, R2)\nplateau_R3 = np.interp(3000, t_range, R3)\nplateau_R4 = np.interp(3000, t_range, R4)\nplateau_N = np.interp(3000, t_range, N)\nQ = (plateau_R1 + plateau_R2 + plateau_R3 + plateau_R4)/plateau_N\nprint(Q)",
      "metadata": {
        "trusted": true
      },
      "execution_count": null,
      "outputs": []
    },
    {
      "cell_type": "code",
      "source": "",
      "metadata": {},
      "execution_count": null,
      "outputs": []
    }
  ]
}